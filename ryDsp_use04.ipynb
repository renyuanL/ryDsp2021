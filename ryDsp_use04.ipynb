{
 "cells": [
  {
   "cell_type": "code",
   "execution_count": 76,
   "id": "34ce347f-5d5b-4f0a-867f-f1a52807d6de",
   "metadata": {},
   "outputs": [],
   "source": [
    "from ryDsp import *\n",
    "%matplotlib qt\n",
    "import seaborn as sb\n",
    "sb.set_style('whitegrid')"
   ]
  },
  {
   "cell_type": "code",
   "execution_count": 78,
   "id": "235ebaa6-410e-4af7-9ae9-56bc74f28d87",
   "metadata": {},
   "outputs": [],
   "source": [
    "def genSawtoothSignal(T=1, f= 10, A=1, ϕ=0, sr= 44100):\n",
    "    \n",
    "    ts= np.linspace(0, T, sr*T)\n",
    "    cs= f *ts + ϕ/(2*π)\n",
    "    \n",
    "    fracPart, intPart= np.modf(cs)\n",
    "    ys= fracPart\n",
    "    ys= (ys - .5)*2\n",
    "    ys= ys*A\n",
    "       \n",
    "    return sr, ys\n",
    "\n",
    "def genTriangleSignal(T=1, f= 10, A=1, ϕ=0, sr= 44100):\n",
    "    \n",
    "    ts= np.linspace(0, T, sr*T)\n",
    "    cs= f *ts + ϕ/(2*π)\n",
    "    \n",
    "    fracPart, intPart= np.modf(cs)\n",
    "    \n",
    "    ys= fracPart\n",
    "    ys= ys - .5\n",
    "    ys= np.abs(ys)-.25\n",
    "    ys= ys*4\n",
    "    ys= ys*A\n",
    "       \n",
    "    return sr, ys\n",
    "\n",
    "def genSquareSignal(T=1, f= 10, A=1, ϕ=0, sr= 44100):\n",
    "    \n",
    "    ts= np.linspace(0, T, sr*T)\n",
    "    cs= f *ts + ϕ/(2*π)\n",
    "    \n",
    "    fracPart, intPart= np.modf(cs)\n",
    "    \n",
    "    ys= fracPart\n",
    "    ys= ys - .5\n",
    "    ys= np.sign(ys)\n",
    "    \n",
    "    ys= ys*A\n",
    "       \n",
    "    return sr, ys\n",
    "\n",
    "sr, x1= genSawtoothSignal()\n",
    "sr, x2= genTriangleSignal()\n",
    "sr, x3= genSquareSignal()\n",
    "plotWav(x1,sr)\n",
    "plotWav(x2,sr)\n",
    "plotWav(x3,sr)\n",
    "pl.legend(['SawTooth','Triangle','Square'])\n",
    "pl.xlabel('x')\n",
    "pl.title(\"SawTooth, Triangle, Square\")\n",
    "pl.grid()"
   ]
  },
  {
   "cell_type": "code",
   "execution_count": 56,
   "id": "35702a65-c3ac-40cd-bb1c-f5801dc1e1bc",
   "metadata": {},
   "outputs": [],
   "source": [
    "# np.modf() a simple wat to get periodic signal\n",
    "\n",
    "x= np.linspace(0,10,1001)\n",
    "fracPart, intPart= np.modf(x)\n",
    "fracPart, intPart\n",
    "\n",
    "pl.plot(x, x,'r', x,fracPart, 'g--', x, intPart,'b--')\n",
    "pl.legend(['x','fracPart','intPart'])\n",
    "pl.xlabel('x')\n",
    "pl.title('fracPart,intPart= np.modf(x)')\n",
    "pl.grid()"
   ]
  },
  {
   "cell_type": "code",
   "execution_count": 35,
   "id": "3cf17247-b8b7-4fcd-8159-921d90c6d7c4",
   "metadata": {},
   "outputs": [],
   "source": [
    "#np.modf?"
   ]
  },
  {
   "cell_type": "code",
   "execution_count": 79,
   "id": "1dfd04ff-b8bc-45ae-9b1d-eadce07c9f03",
   "metadata": {},
   "outputs": [],
   "source": [
    "def genCosSignal(T=1, f= 440, A=1, ϕ=0, sr= 44100):\n",
    "    ts= np.linspace(0, T, sr*T)\n",
    "    θ= 2 *π  *f *ts + ϕ\n",
    "    ys= A * np.cos(θ)\n",
    "    return sr, ys\n",
    "\n",
    "sr, x= genCosSignal()\n",
    "\n"
   ]
  },
  {
   "cell_type": "code",
   "execution_count": 81,
   "id": "9a5d42e5-a4a2-4923-955b-520c459f2b4b",
   "metadata": {},
   "outputs": [
    {
     "name": "stdout",
     "output_type": "stream",
     "text": [
      "playWav, sr= 44100, duration= 1.000 sec\n"
     ]
    }
   ],
   "source": [
    "playWav(x,sr)"
   ]
  },
  {
   "cell_type": "code",
   "execution_count": 95,
   "id": "d06e926c-aa06-4cb7-9314-02e3f779f5e0",
   "metadata": {},
   "outputs": [
    {
     "name": "stdout",
     "output_type": "stream",
     "text": [
      "playWav, sr= 44100, duration= 10.000 sec\n"
     ]
    }
   ],
   "source": [
    "def genChirpSignal(T=1, f= 440, A=1, ϕ=0, sr= 44100):\n",
    "    ts= np.linspace(0, T, sr*T)\n",
    "    θ= 2 *π  *f *ts**2 + ϕ\n",
    "    ys= A * np.cos(θ)\n",
    "    return sr, ys\n",
    "\n",
    "sr, x= genChirpSignal(T=10)\n",
    "playWav(x,sr)"
   ]
  },
  {
   "cell_type": "code",
   "execution_count": 96,
   "id": "70605b16-117f-47aa-8a88-33a16f75fcef",
   "metadata": {},
   "outputs": [],
   "source": [
    "import sympy as sm\n"
   ]
  },
  {
   "cell_type": "code",
   "execution_count": 104,
   "id": "930da09b-1a79-4aa9-96e2-f76bfa6da791",
   "metadata": {},
   "outputs": [
    {
     "data": {
      "text/latex": [
       "$\\displaystyle \\frac{d}{d t} ϕ{\\left(t \\right)} = ω{\\left(t \\right)}$"
      ],
      "text/plain": [
       "Eq(Derivative(ϕ(t), t), ω(t))"
      ]
     },
     "execution_count": 104,
     "metadata": {},
     "output_type": "execute_result"
    }
   ],
   "source": [
    "ω0, c, t= sm.symbols('ω0, c, t')\n",
    "\n",
    "ϕ= sm.Function('ϕ')\n",
    "\n",
    "ω= sm.Function('ω')\n",
    "\n",
    "sm.Eq(ϕ(t).diff(t), ω(t))"
   ]
  },
  {
   "cell_type": "code",
   "execution_count": 106,
   "id": "4fe57683-e88e-4c4f-805d-0c1efaf05126",
   "metadata": {},
   "outputs": [
    {
     "data": {
      "text/latex": [
       "$\\displaystyle \\frac{d}{d t} ϕ{\\left(t \\right)} = c t + ω_{0}$"
      ],
      "text/plain": [
       "Eq(Derivative(ϕ(t), t), c*t + ω0)"
      ]
     },
     "execution_count": 106,
     "metadata": {},
     "output_type": "execute_result"
    }
   ],
   "source": [
    "eq1= sm.Eq(ϕ(t).diff(t), ω0 +c*t)\n",
    "eq1"
   ]
  },
  {
   "cell_type": "code",
   "execution_count": 111,
   "id": "a59299dc-1e32-4013-9cd8-4e7d2e6f042e",
   "metadata": {},
   "outputs": [
    {
     "data": {
      "text/latex": [
       "$\\displaystyle ϕ{\\left(t \\right)} = C_{1} + \\frac{c t^{2}}{2} + t ω_{0}$"
      ],
      "text/plain": [
       "Eq(ϕ(t), C1 + c*t**2/2 + t*ω0)"
      ]
     },
     "execution_count": 111,
     "metadata": {},
     "output_type": "execute_result"
    }
   ],
   "source": [
    "sol= sm.dsolve(eq1, ϕ(t))\n",
    "sol"
   ]
  },
  {
   "cell_type": "code",
   "execution_count": 113,
   "id": "0f6bfeb5-df89-45c8-9bbc-7af0a445fb55",
   "metadata": {},
   "outputs": [
    {
     "data": {
      "text/latex": [
       "$\\displaystyle \\frac{d}{d t} ϕ{\\left(t \\right)} = ω_{0} e^{c t}$"
      ],
      "text/plain": [
       "Eq(Derivative(ϕ(t), t), ω0*exp(c*t))"
      ]
     },
     "execution_count": 113,
     "metadata": {},
     "output_type": "execute_result"
    }
   ],
   "source": [
    "eq2= sm.Eq(ϕ(t).diff(t), ω0 *sm.exp(c*t))\n",
    "eq2"
   ]
  },
  {
   "cell_type": "code",
   "execution_count": 114,
   "id": "776263d1-f3bc-4686-a8bf-740b0b41cd51",
   "metadata": {},
   "outputs": [
    {
     "data": {
      "text/latex": [
       "$\\displaystyle ϕ{\\left(t \\right)} = C_{1} + ω_{0} \\left(\\begin{cases} \\frac{e^{c t}}{c} & \\text{for}\\: c \\neq 0 \\\\t & \\text{otherwise} \\end{cases}\\right)$"
      ],
      "text/plain": [
       "Eq(ϕ(t), C1 + ω0*Piecewise((exp(c*t)/c, Ne(c, 0)), (t, True)))"
      ]
     },
     "execution_count": 114,
     "metadata": {},
     "output_type": "execute_result"
    }
   ],
   "source": [
    "sol2= sm.dsolve(eq2, ϕ(t))\n",
    "sol2"
   ]
  },
  {
   "cell_type": "code",
   "execution_count": null,
   "id": "552f04bb-28be-47a3-be65-fd3297e90e84",
   "metadata": {},
   "outputs": [],
   "source": []
  }
 ],
 "metadata": {
  "kernelspec": {
   "display_name": "Python 3",
   "language": "python",
   "name": "python3"
  },
  "language_info": {
   "codemirror_mode": {
    "name": "ipython",
    "version": 3
   },
   "file_extension": ".py",
   "mimetype": "text/x-python",
   "name": "python",
   "nbconvert_exporter": "python",
   "pygments_lexer": "ipython3",
   "version": "3.8.8"
  }
 },
 "nbformat": 4,
 "nbformat_minor": 5
}
