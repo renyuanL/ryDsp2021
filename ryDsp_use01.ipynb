{
 "cells": [
  {
   "cell_type": "code",
   "execution_count": 14,
   "id": "4e5ec131-c244-4905-b876-8476b475d781",
   "metadata": {},
   "outputs": [],
   "source": [
    "import ryDsp"
   ]
  },
  {
   "cell_type": "code",
   "execution_count": 15,
   "id": "ba3fb206-0de5-4c40-8c12-d7cfdc8accf2",
   "metadata": {},
   "outputs": [
    {
     "name": "stdout",
     "output_type": "stream",
     "text": [
      "cmd= ffmpeg -y -i \"江蕙-家後.mp3\" \"江蕙-家後.mp3.wav\"\n",
      "playWav, sr= 44100, duration= 252.378 sec\n"
     ]
    },
    {
     "data": {
      "text/plain": [
       "(44100,\n",
       " array([[0, 0],\n",
       "        [0, 0],\n",
       "        [0, 0],\n",
       "        ...,\n",
       "        [0, 0],\n",
       "        [0, 0],\n",
       "        [0, 0]], dtype=int16))"
      ]
     },
     "execution_count": 15,
     "metadata": {},
     "output_type": "execute_result"
    }
   ],
   "source": [
    "#w= ryDsp.getWavFromYoutube() # info= 手嶌 葵《テルーの唄 》中日字幕\n",
    "\n",
    "#url= 'https://youtu.be/jBzE8Sll_r4'  #info= もののけ姫\n",
    "#url= 'https://youtu.be/m3OOoNE2_i4'   #info= 【Live】手嶌葵「ホームにて（中島みゆき）」2012\n",
    "#url= 'https://youtu.be/-7aX47rrU5o' #info= 高畑充希 翻唱 中島美雪: ホームにて (在月台上) 日語歌詞中譯-有押韻\n",
    "#url= 'https://youtu.be/Q3580ndaVII' # 井上あずみ - いつも何度でも (Always With Me)\n",
    "\n",
    "#w= ryDsp.getWavFromYoutube(url)\n",
    "\n",
    "#mp3File= 'L:\\\\中島美雪2020\\\\theDir2.mp3\\\\(BA.047_1977.06.25)_00041_ホームにて.mp3'\n",
    "mp3File= '江蕙-家後.mp3'\n",
    "sr, w= ryDsp.getWavFromFile_mp3(mp3File)\n",
    "ryDsp.playWav(w, sr)\n",
    "sr, w\n",
    "\n"
   ]
  },
  {
   "cell_type": "code",
   "execution_count": 16,
   "id": "16dc345b-839e-44fc-91cf-0d09d2d9f636",
   "metadata": {},
   "outputs": [
    {
     "data": {
      "text/plain": [
       "array([[0, 0],\n",
       "       [0, 0],\n",
       "       [0, 0],\n",
       "       ...,\n",
       "       [0, 0],\n",
       "       [0, 0],\n",
       "       [0, 0]], dtype=int16)"
      ]
     },
     "execution_count": 16,
     "metadata": {},
     "output_type": "execute_result"
    }
   ],
   "source": [
    "w"
   ]
  },
  {
   "cell_type": "code",
   "execution_count": 17,
   "id": "cbbd62d4-bb38-474b-a644-9a0d0131184d",
   "metadata": {},
   "outputs": [],
   "source": [
    "wav= w\n"
   ]
  },
  {
   "cell_type": "code",
   "execution_count": 18,
   "id": "3a64fb5a-e03c-4c26-aa75-d29be7f20b68",
   "metadata": {},
   "outputs": [
    {
     "data": {
      "text/plain": [
       "(11129856,)"
      ]
     },
     "execution_count": 18,
     "metadata": {},
     "output_type": "execute_result"
    }
   ],
   "source": [
    "wav[:,0].shape"
   ]
  },
  {
   "cell_type": "code",
   "execution_count": 19,
   "id": "b13de050-fab3-4998-aa95-be7c045d3da2",
   "metadata": {},
   "outputs": [
    {
     "data": {
      "text/plain": [
       "(11129856,)"
      ]
     },
     "execution_count": 19,
     "metadata": {},
     "output_type": "execute_result"
    }
   ],
   "source": [
    "wav[:,1].shape"
   ]
  },
  {
   "cell_type": "code",
   "execution_count": 20,
   "id": "c0d01adf-eb25-46a1-9445-9e0eb87416a1",
   "metadata": {},
   "outputs": [
    {
     "data": {
      "text/plain": [
       "44100"
      ]
     },
     "execution_count": 20,
     "metadata": {},
     "output_type": "execute_result"
    }
   ],
   "source": [
    "sr"
   ]
  },
  {
   "cell_type": "code",
   "execution_count": 21,
   "id": "8b4754b5-497a-41b2-b717-4b6c24fea96c",
   "metadata": {},
   "outputs": [
    {
     "data": {
      "text/plain": [
       "array([[0, 0],\n",
       "       [0, 0],\n",
       "       [0, 0],\n",
       "       ...,\n",
       "       [0, 0],\n",
       "       [0, 0],\n",
       "       [0, 0]], dtype=int16)"
      ]
     },
     "execution_count": 21,
     "metadata": {},
     "output_type": "execute_result"
    }
   ],
   "source": [
    "wav"
   ]
  },
  {
   "cell_type": "code",
   "execution_count": 22,
   "id": "af5d3364-9cae-496a-bfa8-f3663c302778",
   "metadata": {},
   "outputs": [
    {
     "data": {
      "text/plain": [
       "[<matplotlib.lines.Line2D at 0x2b268718700>,\n",
       " <matplotlib.lines.Line2D at 0x2b2687187c0>]"
      ]
     },
     "execution_count": 22,
     "metadata": {},
     "output_type": "execute_result"
    }
   ],
   "source": [
    "#\n",
    "# plot the figure outside the Jupuyter such that we can control it by zoom in or out\n",
    "#\n",
    "%matplotlib qt \n",
    "\n",
    "import matplotlib.pyplot as plt\n",
    "plt.plot(wav)\n"
   ]
  },
  {
   "cell_type": "code",
   "execution_count": 23,
   "id": "207623c4-9f2f-44c2-bfdb-a757fd8340d8",
   "metadata": {},
   "outputs": [
    {
     "data": {
      "text/plain": [
       "(32768, -32768)"
      ]
     },
     "execution_count": 23,
     "metadata": {},
     "output_type": "execute_result"
    }
   ],
   "source": [
    "# ys ..... y-values series  +- 2**15 == 32767\n",
    "# ts  .... time series\n",
    "+2**15, -2**15"
   ]
  },
  {
   "cell_type": "code",
   "execution_count": 24,
   "id": "521567ee-c893-4c59-ac44-238ce9d3c0f2",
   "metadata": {},
   "outputs": [
    {
     "data": {
      "image/png": "[encoded data removed]",
      "text/plain": [
       "<Figure size 432x288 with 1 Axes>"
      ]
     },
     "metadata": {
      "needs_background": "light"
     },
     "output_type": "display_data"
    }
   ],
   "source": [
    "%matplotlib inline\n",
    "\n",
    "ryDsp.plotWav(wav, sr=44100)"
   ]
  },
  {
   "cell_type": "code",
   "execution_count": 25,
   "id": "f3fb07ac-29e8-40e3-a31c-0cdb74aec3fe",
   "metadata": {},
   "outputs": [],
   "source": [
    "%matplotlib qt\n",
    "\n",
    "ryDsp.plotWav(wav, sr=44100)"
   ]
  },
  {
   "cell_type": "code",
   "execution_count": 26,
   "id": "cd613444-99c5-4c51-9f4f-05fcd9d3b226",
   "metadata": {},
   "outputs": [
    {
     "name": "stdout",
     "output_type": "stream",
     "text": [
      "playWav, sr= 44100, duration= 10.000 sec\n"
     ]
    }
   ],
   "source": [
    "# segmentation\n",
    "\n",
    "x= wav[\n",
    "    sr*100: sr*110,  # using sr such that the time unit becomes \"sec\"\n",
    "    :]\n",
    "\n",
    "ryDsp.playWav(x)\n",
    "ryDsp.plotWav(x,sr)"
   ]
  },
  {
   "cell_type": "code",
   "execution_count": 27,
   "id": "3ee14a52-2008-49e6-9cf7-ab9dabd151d8",
   "metadata": {},
   "outputs": [
    {
     "name": "stdout",
     "output_type": "stream",
     "text": [
      "playWav, sr= 44100, duration= 20.000 sec\n"
     ]
    }
   ],
   "source": [
    "x= wav[sr*120:sr*140, 0]\n",
    "ryDsp.playWav(x)\n",
    "ryDsp.plotWav(x,sr)"
   ]
  },
  {
   "cell_type": "code",
   "execution_count": 28,
   "id": "1867700c-ef42-4bbb-b8df-91208fe057ef",
   "metadata": {},
   "outputs": [
    {
     "name": "stdout",
     "output_type": "stream",
     "text": [
      "playWav, sr= 44100, duration= 20.000 sec\n"
     ]
    }
   ],
   "source": [
    "x= wav[sr*120:sr*140, 1]\n",
    "ryDsp.playWav(x)\n",
    "ryDsp.plotWav(x, sr)"
   ]
  },
  {
   "cell_type": "code",
   "execution_count": 29,
   "id": "10fc922b-c359-4ce8-ae84-2afe3dae5d6a",
   "metadata": {},
   "outputs": [
    {
     "name": "stdout",
     "output_type": "stream",
     "text": [
      "playWav, sr= 88200, duration= 10.000 sec\n"
     ]
    }
   ],
   "source": [
    "x= wav[sr*120:sr*140, 1]\n",
    "ryDsp.playWav(x, sr*2)\n",
    "ryDsp.plotWav(x, sr*2)"
   ]
  },
  {
   "cell_type": "code",
   "execution_count": 30,
   "id": "a740905e-20e8-47b6-a9b3-4eb6d491954f",
   "metadata": {},
   "outputs": [
    {
     "name": "stdout",
     "output_type": "stream",
     "text": [
      "playWav, sr= 22050, duration= 40.000 sec\n"
     ]
    }
   ],
   "source": [
    "x= wav[sr*120:sr*140, 1]\n",
    "ryDsp.playWav(x, sr//2)\n",
    "ryDsp.plotWav(x, sr//2)"
   ]
  },
  {
   "cell_type": "code",
   "execution_count": 31,
   "id": "5eab9328-47f9-49b8-b397-979d7d3b89d7",
   "metadata": {},
   "outputs": [
    {
     "name": "stdout",
     "output_type": "stream",
     "text": [
      "playWav, sr= 33075, duration= 26.667 sec\n"
     ]
    }
   ],
   "source": [
    "x= wav[sr*120:sr*140, 1]\n",
    "ryDsp.playWav(x, sr*3//4)\n",
    "ryDsp.plotWav(x, sr*3//4)"
   ]
  },
  {
   "cell_type": "code",
   "execution_count": 32,
   "id": "93502d47-bcfb-4df4-9097-53a51e883217",
   "metadata": {},
   "outputs": [
    {
     "name": "stdout",
     "output_type": "stream",
     "text": [
      "playWav, sr= 58800, duration= 15.000 sec\n"
     ]
    }
   ],
   "source": [
    "x= wav[sr*120:sr*140, :]\n",
    "ryDsp.playWav(x, sr*4//3)\n",
    "ryDsp.plotWav(x, sr*4//3)"
   ]
  },
  {
   "cell_type": "code",
   "execution_count": 33,
   "id": "44452618-900c-42eb-b392-6739d3186b2e",
   "metadata": {},
   "outputs": [
    {
     "name": "stdout",
     "output_type": "stream",
     "text": [
      "playWav, sr= 50400, duration= 17.500 sec\n"
     ]
    }
   ],
   "source": [
    "x= wav[sr*120:sr*140, :]\n",
    "ryDsp.playWav(x, sr*8//7)\n",
    "ryDsp.plotWav(x, sr*8//7)"
   ]
  },
  {
   "cell_type": "code",
   "execution_count": null,
   "id": "2c0f341e-32aa-496d-8aff-77f18950a60f",
   "metadata": {},
   "outputs": [],
   "source": []
  },
  {
   "cell_type": "code",
   "execution_count": null,
   "id": "afcca27e-f0e1-4357-83bb-ff93bfd6f123",
   "metadata": {},
   "outputs": [],
   "source": []
  },
  {
   "cell_type": "code",
   "execution_count": 34,
   "id": "6d4f8188-2425-4c83-93db-2023083b9daa",
   "metadata": {},
   "outputs": [
    {
     "data": {
      "text/plain": [
       "[<matplotlib.lines.Line2D at 0x2b2688d01f0>]"
      ]
     },
     "execution_count": 34,
     "metadata": {},
     "output_type": "execute_result"
    }
   ],
   "source": [
    "import matplotlib.pyplot as pl\n",
    "\n",
    "π= np.pi\n",
    "\n",
    "n= np.arange(0,100)\n",
    "\n",
    "f= 10 #z\n",
    "N= 100\n",
    "\n",
    "w= 2 *π *f /N\n",
    "\n",
    "x= np.cos(w*n)\n",
    "n, x\n",
    "pl.plot(n, x)"
   ]
  },
  {
   "cell_type": "code",
   "execution_count": 35,
   "id": "b6ae4bc8-bd4b-4880-a44a-745e272fa2e1",
   "metadata": {},
   "outputs": [
    {
     "data": {
      "text/plain": [
       "10"
      ]
     },
     "execution_count": 35,
     "metadata": {},
     "output_type": "execute_result"
    }
   ],
   "source": [
    "import numpy.fft as npfft\n",
    "\n",
    "X= npfft.fft(x)\n",
    "\n",
    "X1= np.abs(X)\n",
    "pl.plot(n, X1)\n",
    "X1.argmax()\n"
   ]
  },
  {
   "cell_type": "code",
   "execution_count": 36,
   "id": "f27b796f-91ba-4a02-a0b7-b86cb1f7f804",
   "metadata": {},
   "outputs": [],
   "source": [
    "#%%\n",
    "import numpy.fft as npfft\n",
    "\n",
    "def fftWav(x, nFFT= 1024):\n",
    "    \n",
    "    assert x.ndim == 1\n",
    "    \n",
    "    x= zeroPaddingWav(x, nFFT)\n",
    "    z= x.reshape(-1, nFFT)\n",
    "    Z=  numpy.fft.fft(z)\n",
    "    \n",
    "    return Z\n"
   ]
  },
  {
   "cell_type": "code",
   "execution_count": 37,
   "id": "992ed991-6da6-469c-929e-ec044caeef54",
   "metadata": {},
   "outputs": [
    {
     "name": "stdout",
     "output_type": "stream",
     "text": [
      "playWav, sr= 44100, duration= 20.000 sec\n"
     ]
    }
   ],
   "source": [
    "x= wav[sr*120:sr*140, 1]\n",
    "ryDsp.playWav(x)\n",
    "ryDsp.plotWav(x, sr)"
   ]
  },
  {
   "cell_type": "code",
   "execution_count": 38,
   "id": "d88e806b-1f81-4f62-bac4-a862fe089913",
   "metadata": {},
   "outputs": [
    {
     "data": {
      "text/plain": [
       "(882000,)"
      ]
     },
     "execution_count": 38,
     "metadata": {},
     "output_type": "execute_result"
    }
   ],
   "source": [
    "X= npfft.fft(x)\n",
    "x.shape"
   ]
  },
  {
   "cell_type": "code",
   "execution_count": 39,
   "id": "e806be99-9644-4ccb-b293-40b407aa723f",
   "metadata": {},
   "outputs": [
    {
     "name": "stdout",
     "output_type": "stream",
     "text": [
      "playWav, sr= 44100, duration= 20.000 sec\n"
     ]
    }
   ],
   "source": [
    "X= npfft.fft(x)\n",
    "x.shape\n",
    "\n",
    "X.shape\n",
    "\n",
    "N= X.shape[0]\n",
    "\n",
    "X[N//32:-N//32]= 0\n",
    "\n",
    "#X[:N//32]= 0\n",
    "#X[-N//32:]= 0\n",
    "\n",
    "xx= npfft.ifft(X)\n",
    "xx.shape\n",
    "ryDsp.playWav(xx.real,sr)\n",
    "ryDsp.plotWav(xx.real,sr)"
   ]
  },
  {
   "cell_type": "code",
   "execution_count": null,
   "id": "6bf0ae93-c348-4ecd-862f-65c1ddddaed6",
   "metadata": {},
   "outputs": [],
   "source": [
    "import numpy.fft\n",
    "\n",
    "def filterWav(x, \n",
    "              sr= 44100, \n",
    "              cutoff_freq= 1000, \n",
    "              lowpass=True):\n",
    "    '''\n",
    "    cutoff_ratio: the ratio of sampling frequency to cut off\n",
    "    the max is 1/2\n",
    "    '''\n",
    "    \n",
    "    assert x.ndim == 1 # currently only deal with mono(ch=1) audio\n",
    "    \n",
    "        \n",
    "    assert cutoff_freq/sr < 1/2\n",
    "    assert cutoff_freq/sr > 0\n",
    "        \n",
    "    X= numpy.fft.fft(x)\n",
    "    \n",
    "    N= X.shape[0]\n",
    "    cutoff= int(N*cutoff_freq/sr)\n",
    "\n",
    "    if lowpass==True:\n",
    "        print(f'lowpass, cutoff_freq= {cutoff_freq} Hz')\n",
    "        X[cutoff:-cutoff]= 0\n",
    "    else:\n",
    "        print(f'highpass, cutoff_freq= {cutoff_freq} Hz')\n",
    "        X[:cutoff]=  0\n",
    "        X[-cutoff:]= 0\n",
    "\n",
    "    xx= numpy.fft.ifft(X)\n",
    "    xx= xx.real\n",
    "    return xx\n",
    "\n",
    "x=wav[sr*100:sr*120,0]\n",
    "xx= filterWav(x, cutoff_freq= 5000, lowpass=False)\n",
    "ryDsp.playWav(xx,sr)\n",
    "ryDsp.plotWav(xx,sr)"
   ]
  },
  {
   "cell_type": "code",
   "execution_count": null,
   "id": "b5551acb-379e-47ff-993c-9d1ad7a6e631",
   "metadata": {},
   "outputs": [],
   "source": [
    "x=  wav[sr*200:sr*220,0]\n",
    "xx= x.copy()\n",
    "xx= filterWav(xx,   sr, cutoff_freq= 3000, lowpass=True)\n",
    "xx= filterWav(xx,   sr, cutoff_freq= 1500, lowpass=False)\n",
    "ryDsp.playWav(xx,sr)\n",
    "ryDsp.plotWav(xx,sr)"
   ]
  },
  {
   "cell_type": "code",
   "execution_count": null,
   "id": "66787483-51e5-43e2-afd2-4ba19e62c3b3",
   "metadata": {},
   "outputs": [],
   "source": [
    "xx.real[0]"
   ]
  },
  {
   "cell_type": "code",
   "execution_count": null,
   "id": "44adc590-6ced-49d2-b79f-93859ff94bb4",
   "metadata": {},
   "outputs": [],
   "source": [
    "sr, x= ryDsp.genSinSignal()"
   ]
  },
  {
   "cell_type": "code",
   "execution_count": null,
   "id": "d7ade0d7-7422-411a-a758-ae43dacc9649",
   "metadata": {},
   "outputs": [],
   "source": [
    "sr"
   ]
  },
  {
   "cell_type": "code",
   "execution_count": null,
   "id": "e54dc340-ab8b-42fd-9cef-b2697310cc1b",
   "metadata": {},
   "outputs": [],
   "source": [
    "x"
   ]
  },
  {
   "cell_type": "code",
   "execution_count": null,
   "id": "359b2295-64c3-4f3f-afa3-e875ca179406",
   "metadata": {},
   "outputs": [],
   "source": [
    "plt.plot(x)"
   ]
  },
  {
   "cell_type": "code",
   "execution_count": null,
   "id": "e4db9de0-9d06-492c-b195-885610651385",
   "metadata": {},
   "outputs": [],
   "source": [
    "ryDsp.plotWav(x[sr*0:int(sr*0.01)], sr)"
   ]
  },
  {
   "cell_type": "code",
   "execution_count": null,
   "id": "700cb2c5-aec4-46d3-8f1f-28982585f13b",
   "metadata": {},
   "outputs": [],
   "source": [
    "sr, x= ryDsp.genSinSignal(T= 3, f= 440)\n",
    "ryDsp.playWav(x, sr)"
   ]
  },
  {
   "cell_type": "code",
   "execution_count": null,
   "id": "d596239f-5a99-43af-af2c-8d5a15a2ada9",
   "metadata": {},
   "outputs": [],
   "source": [
    "sr, x0= ryDsp.genSinSignal(T= 3, f= 220) # A\n",
    "#ryDsp.playWav(x, sr)"
   ]
  },
  {
   "cell_type": "code",
   "execution_count": null,
   "id": "c61d7268-cd81-4de8-b620-b6ac74f95b84",
   "metadata": {},
   "outputs": [],
   "source": [
    "sr, x1= ryDsp.genSinSignal(T= 3, f= 330)  # E\n",
    "#ryDsp.playWav(x, sr)"
   ]
  },
  {
   "cell_type": "code",
   "execution_count": null,
   "id": "d1200faa-584f-4540-a1a5-01d442d0f5f7",
   "metadata": {},
   "outputs": [],
   "source": [
    "sr, x2= ryDsp.genSinSignal(T= 3, f= 440)  # a\n",
    "#ryDsp.playWav(x, sr)"
   ]
  },
  {
   "cell_type": "code",
   "execution_count": null,
   "id": "81d760d1-de7b-45d5-99fd-ccc9f92607e3",
   "metadata": {},
   "outputs": [],
   "source": [
    "x0.shape"
   ]
  },
  {
   "cell_type": "code",
   "execution_count": null,
   "id": "8c48869c-67d9-4cc5-9c07-134332a283a7",
   "metadata": {},
   "outputs": [],
   "source": [
    "x1.shape"
   ]
  },
  {
   "cell_type": "code",
   "execution_count": null,
   "id": "84c5a67e-bea5-40f2-971a-418584891ae4",
   "metadata": {},
   "outputs": [],
   "source": [
    "x2.shape"
   ]
  },
  {
   "cell_type": "code",
   "execution_count": null,
   "id": "9a020efc-ff26-4a69-9479-149663602fb6",
   "metadata": {},
   "outputs": [],
   "source": [
    "import numpy as np\n",
    "\n",
    "x= np.concatenate([x0,x1,x2])\n"
   ]
  },
  {
   "cell_type": "code",
   "execution_count": null,
   "id": "40e1deea-d634-4596-bbb1-0c773a6e96fe",
   "metadata": {},
   "outputs": [],
   "source": [
    "ryDsp.playWav(x)"
   ]
  },
  {
   "cell_type": "code",
   "execution_count": null,
   "id": "781d3f0b-4e16-4eb2-a8cc-871aff5bdf0b",
   "metadata": {},
   "outputs": [],
   "source": []
  }
 ],
 "metadata": {
  "kernelspec": {
   "display_name": "Python 3",
   "language": "python",
   "name": "python3"
  },
  "language_info": {
   "codemirror_mode": {
    "name": "ipython",
    "version": 3
   },
   "file_extension": ".py",
   "mimetype": "text/x-python",
   "name": "python",
   "nbconvert_exporter": "python",
   "pygments_lexer": "ipython3",
   "version": "3.8.8"
  }
 },
 "nbformat": 4,
 "nbformat_minor": 5
}
