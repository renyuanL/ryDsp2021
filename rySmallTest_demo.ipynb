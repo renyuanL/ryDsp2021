{
 "cells": [
  {
   "cell_type": "code",
   "execution_count": 2,
   "id": "5204e237-bcc6-410c-91e1-cb380bc11945",
   "metadata": {},
   "outputs": [],
   "source": [
    "from ryDsp import *\n",
    "\n",
    "def rySmallTest_ChirpSignal(\n",
    "    T=  1,    # sec \n",
    "    f=  440,  # Hz, this is a staring freq, perhaps, may be not correct\n",
    "    A=  1,    # amplitude\n",
    "    #ϕ=  0,    # inital phase, maybe not needed\n",
    "    sr= 44100 # Hz, sampling rate, samples/sec\n",
    "    ):\n",
    "    \n",
    "    ts= np.linspace(0, T, sr*T)\n",
    "    θ=  2*π*f *(ts**2) #+ ϕ\n",
    "    ys= A * np.sin(θ)\n",
    "    return sr, ys\n"
   ]
  },
  {
   "cell_type": "code",
   "execution_count": 31,
   "id": "1393046c-9981-4dc3-805b-b640fbf3bb74",
   "metadata": {},
   "outputs": [],
   "source": [
    "%matplotlib qt\n",
    "\n",
    "sr, x= rySmallTest_ChirpSignal()\n",
    "\n",
    "plotWav(x, sr)\n",
    "# slice indices must be integers\n",
    "\n",
    "playWav(x,sr)\n",
    "\n",
    "playWav_jpt(x, sr)\n",
    "\n",
    "specWav(x)\n",
    "\n",
    "spec2dWav(x)\n",
    "\n",
    "spec3dWav(x)"
   ]
  },
  {
   "cell_type": "code",
   "execution_count": 44,
   "id": "7a2c911b-f6d7-4d5b-8af1-1284fbe2be77",
   "metadata": {},
   "outputs": [
    {
     "name": "stdout",
     "output_type": "stream",
     "text": [
      "playWav, sr= 44100, duration= 1.000 sec\n"
     ]
    }
   ],
   "source": [
    "# now the frequency is changing, linear style, but the freq spec seems not correct!\n",
    "\n",
    "def rySmallTest_ChirpSignal_v01(\n",
    "    T=  1,    # sec \n",
    "    #f=  440,  # Hz, this is a staring freq, perhaps, may be not correct\n",
    "    f0=  440,\n",
    "    f1=  880,\n",
    "    A=  1,    # amplitude\n",
    "    #ϕ=  0,    # inital phase, maybe not needed\n",
    "    sr= 44100 # Hz, sampling rate, samples/sec\n",
    "    ):\n",
    "    \n",
    "    ts= np.linspace(0, T, sr*T)\n",
    "    \n",
    "    #θ=  2*π*f *(ts**2) #+ ϕ\n",
    "    b= 2*π* f0\n",
    "    a= (2*π*f1 -b) /2 /T\n",
    "    θ= a * ts**2 + b*ts\n",
    "    \n",
    "    ys= A * np.sin(θ)\n",
    "    return sr, ys\n",
    "\n",
    "sr, x01= rySmallTest_ChirpSignal_v01(\n",
    "    f0=1000, f1=2000)\n",
    "plotWav(x01, sr)\n",
    "playWav(x01, sr)\n",
    "spec2dWav(x01)"
   ]
  },
  {
   "cell_type": "code",
   "execution_count": 54,
   "id": "2f81260e-23db-442b-a4cb-7decf6d4b963",
   "metadata": {},
   "outputs": [
    {
     "name": "stdout",
     "output_type": "stream",
     "text": [
      "playWav, sr= 44100, duration= 1.000 sec\n"
     ]
    }
   ],
   "source": [
    "def rySmallTest_ChirpSignal_v02(\n",
    "    T=  1,    # sec \n",
    "    #f=  440,  # Hz, this is a staring freq, perhaps, may be not correct\n",
    "    f0=  440,\n",
    "    f1=  880,\n",
    "    A=  1,    # amplitude\n",
    "    #ϕ=  0,    # inital phase, maybe not needed\n",
    "    sr= 44100 # Hz, sampling rate, samples/sec\n",
    "    ):\n",
    "    \n",
    "    ts= np.linspace(0, T, sr*T)\n",
    "    \n",
    "    #θ=  2*π*f *(ts**2) #+ ϕ\n",
    "    \n",
    "    #b= 2*π* f0\n",
    "    #a= (2*π*f1 -b) /2 /T\n",
    "    #θ= a * ts**2 + b*ts\n",
    "    \n",
    "    a= 2*π*f0\n",
    "    b= np.log(f1/f0) / T\n",
    "    θ= a/b*np.exp(b*ts)\n",
    "    \n",
    "    ys= A * np.sin(θ)\n",
    "    return sr, ys\n",
    "\n",
    "sr, x02= rySmallTest_ChirpSignal_v02(\n",
    "    f0=1000, f1=4000)\n",
    "plotWav(x02, sr)\n",
    "playWav(x02, sr)\n",
    "spec2dWav(x02)"
   ]
  },
  {
   "cell_type": "code",
   "execution_count": 55,
   "id": "f9c454ff-6fba-472d-a65e-bf18cd22c068",
   "metadata": {},
   "outputs": [
    {
     "name": "stdout",
     "output_type": "stream",
     "text": [
      "playWav, sr= 44100, duration= 1.000 sec\n"
     ]
    }
   ],
   "source": [
    "sr, x01= rySmallTest_ChirpSignal_v01(\n",
    "    f0=1000, f1=4000)\n",
    "\n",
    "pl.figure()\n",
    "plotWav(x01, sr)\n",
    "playWav(x01, sr)\n",
    "spec2dWav(x01)"
   ]
  },
  {
   "cell_type": "code",
   "execution_count": null,
   "id": "542bec62-77e6-49ba-a134-4d8b268326c5",
   "metadata": {},
   "outputs": [],
   "source": []
  }
 ],
 "metadata": {
  "kernelspec": {
   "display_name": "Python 3",
   "language": "python",
   "name": "python3"
  },
  "language_info": {
   "codemirror_mode": {
    "name": "ipython",
    "version": 3
   },
   "file_extension": ".py",
   "mimetype": "text/x-python",
   "name": "python",
   "nbconvert_exporter": "python",
   "pygments_lexer": "ipython3",
   "version": "3.8.8"
  }
 },
 "nbformat": 4,
 "nbformat_minor": 5
}
